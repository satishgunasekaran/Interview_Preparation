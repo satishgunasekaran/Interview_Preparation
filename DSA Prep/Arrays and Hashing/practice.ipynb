{
 "cells": [
  {
   "metadata": {},
   "cell_type": "markdown",
   "source": "## Dynamic Array"
  },
  {
   "cell_type": "code",
   "execution_count": 5,
   "metadata": {},
   "outputs": [],
   "source": [
    "class DynamicArray:\n",
    "    \n",
    "    def __init__(self, capacity: int):\n",
    "        self.array = [0]*capacity\n",
    "        self.size = 0\n",
    "        self.capacity = capacity\n",
    "\n",
    "    def get(self, i: int) -> int:\n",
    "        return self.array[i]    \n",
    "\n",
    "    def set(self, i: int, n: int) -> None:\n",
    "        self.array[i] = n\n",
    "\n",
    "    def pushback(self, n: int) -> None:\n",
    "        if (self.size+1) > self.capacity:\n",
    "            self.resize(); \n",
    "        self.array[self.size] = n\n",
    "        self.size += 1\n",
    "\n",
    "    def popback(self) -> int:\n",
    "        self.size -= 1\n",
    "        return self.array[self.size]\n",
    "\n",
    "    def resize(self) -> None:\n",
    "        new_array = (self.capacity*2) *[0]\n",
    "        \n",
    "        for i in range(self.size):\n",
    "            new_array[i] = self.array[i]\n",
    "        \n",
    "        self.capacity *= 2\n",
    "        self.array = new_array\n",
    "\n",
    "    def getSize(self) -> int:\n",
    "        return self.size\n",
    "        \n",
    "    def getCapacity(self) -> int:\n",
    "        return self.capacity\n"
   ]
  },
  {
   "metadata": {},
   "cell_type": "markdown",
   "source": "## Hash Map"
  },
  {
   "cell_type": "code",
   "execution_count": 29,
   "metadata": {},
   "outputs": [],
   "source": [
    "class ListNode:\n",
    "    def __init__(self, key=None,val=None) -> None:\n",
    "        self.val = val\n",
    "        self.key = key\n",
    "        self.next: ListNode|None = None\n",
    "\n",
    "class MyHashMap:\n",
    "    def __init__(self):\n",
    "       self.hash_map = [ListNode() for _ in range(1000)]\n",
    "\n",
    "    # Creating a hash function \n",
    "    def __hash(self,key: int):\n",
    "        return key % 1000\n",
    "    \n",
    "    def put(self, key: int, value: int) -> None:\n",
    "        index = self.__hash(key)\n",
    "        curr = self.hash_map[index]\n",
    "        \n",
    "        while curr.next:\n",
    "            if curr.next.key == key:\n",
    "                curr.next.val = value\n",
    "                return\n",
    "            curr = curr.next\n",
    "            \n",
    "        curr.next = ListNode(key=key, val=value)\n",
    "         \n",
    "    def get(self, key: int) -> int:\n",
    "        index = self.__hash(key)\n",
    "        curr = self.hash_map[index]\n",
    "        \n",
    "        while curr:\n",
    "            if curr.key == key:\n",
    "                return curr.val   \n",
    "            curr = curr.next \n",
    "        return -1\n",
    "     \n",
    "    def remove(self, key: int) -> None:\n",
    "        index = self.__hash(key)\n",
    "        curr = self.hash_map[index]\n",
    "        while curr and curr.next:\n",
    "            if curr.next.key == key:\n",
    "                curr.next = curr.next.next\n",
    "                return\n",
    "            curr = curr.next\n",
    "        "
   ]
  },
  {
   "metadata": {},
   "cell_type": "markdown",
   "source": "## Prefix Array"
  },
  {
   "cell_type": "code",
   "metadata": {
    "ExecuteTime": {
     "end_time": "2024-07-28T10:03:35.796122Z",
     "start_time": "2024-07-28T10:03:35.790160Z"
    }
   },
   "source": [
    "def prefixSum(nums):\n",
    "    prefix = [nums[0]]\n",
    "    \n",
    "    for i in range(1, len(nums)):\n",
    "        prefix.append(prefix[-1]+ nums[i])\n",
    "        \n",
    "    return prefix\n",
    "\n",
    "arr = [1,2,3,4,5]\n",
    "prefixSumArr = prefixSum(arr)"
   ],
   "outputs": [],
   "execution_count": 6
  },
  {
   "metadata": {
    "ExecuteTime": {
     "end_time": "2024-07-28T10:08:16.254442Z",
     "start_time": "2024-07-28T10:08:16.249988Z"
    }
   },
   "cell_type": "code",
   "source": [
    "# i want subarray sum \n",
    "start = 0\n",
    "end = 3\n",
    "\n",
    "normalSumAns = 0\n",
    "for i in range(start, end+1):\n",
    "    normalSumAns +=  arr[i] \n",
    "    \n",
    "print(\"Sum Calculated Normally\", normalSumAns)\n",
    "\n",
    "prefixSumAns= None\n",
    "if start != 0:\n",
    "    prefixSumAns = prefixSumArr[end] - prefixSumArr[start-1]\n",
    "else:\n",
    "    prefixSumAns = prefixSumArr[end]\n",
    "print(\"Sum Calculated Prefix Sum\", prefixSumAns)\n"
   ],
   "outputs": [
    {
     "name": "stdout",
     "output_type": "stream",
     "text": [
      "Sum Calculated Normally 10\n",
      "Sum Calculated Prefix Sum 10\n"
     ]
    }
   ],
   "execution_count": 14
  }
 ],
 "metadata": {
  "kernelspec": {
   "display_name": "base",
   "language": "python",
   "name": "python3"
  },
  "language_info": {
   "codemirror_mode": {
    "name": "ipython",
    "version": 3
   },
   "file_extension": ".py",
   "mimetype": "text/x-python",
   "name": "python",
   "nbconvert_exporter": "python",
   "pygments_lexer": "ipython3",
   "version": "3.11.7"
  }
 },
 "nbformat": 4,
 "nbformat_minor": 2
}
