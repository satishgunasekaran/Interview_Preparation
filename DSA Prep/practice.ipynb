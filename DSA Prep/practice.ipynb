{
 "cells": [
  {
   "cell_type": "code",
   "execution_count": 5,
   "metadata": {},
   "outputs": [],
   "source": [
    "class DynamicArray:\n",
    "    \n",
    "    def __init__(self, capacity: int):\n",
    "        self.array = [0]*capacity\n",
    "        self.size = 0\n",
    "        self.capacity = capacity\n",
    "\n",
    "    def get(self, i: int) -> int:\n",
    "        return self.array[i]    \n",
    "\n",
    "    def set(self, i: int, n: int) -> None:\n",
    "        self.array[i] = n\n",
    "\n",
    "    def pushback(self, n: int) -> None:\n",
    "        if (self.size+1) > self.capacity:\n",
    "            self.resize(); \n",
    "        self.array[self.size] = n\n",
    "        self.size += 1\n",
    "\n",
    "    def popback(self) -> int:\n",
    "        self.size -= 1\n",
    "        return self.array[self.size]\n",
    "\n",
    "    def resize(self) -> None:\n",
    "        new_array = (self.capacity*2) *[0]\n",
    "        \n",
    "        for i in range(self.size):\n",
    "            new_array[i] = self.array[i]\n",
    "        \n",
    "        self.capacity *= 2\n",
    "        self.array = new_array\n",
    "\n",
    "    def getSize(self) -> int:\n",
    "        return self.size\n",
    "        \n",
    "    def getCapacity(self) -> int:\n",
    "        return self.capacity\n"
   ]
  },
  {
   "cell_type": "code",
   "execution_count": 29,
   "metadata": {},
   "outputs": [],
   "source": [
    "class ListNode:\n",
    "    def __init__(self, key=None,val=None) -> None:\n",
    "        self.val = val\n",
    "        self.key = key\n",
    "        self.next: ListNode|None = None\n",
    "\n",
    "class MyHashMap:\n",
    "    def __init__(self):\n",
    "       self.hash_map = [ListNode() for _ in range(1000)]\n",
    "\n",
    "    # Creating a hash function \n",
    "    def __hash(self,key: int):\n",
    "        return key % 1000\n",
    "    \n",
    "    def put(self, key: int, value: int) -> None:\n",
    "        index = self.__hash(key)\n",
    "        curr = self.hash_map[index]\n",
    "        \n",
    "        while curr.next:\n",
    "            if curr.next.key == key:\n",
    "                curr.next.val = value\n",
    "                return\n",
    "            curr = curr.next\n",
    "            \n",
    "        curr.next = ListNode(key=key, val=value)\n",
    "         \n",
    "    def get(self, key: int) -> int:\n",
    "        index = self.__hash(key)\n",
    "        curr = self.hash_map[index]\n",
    "        \n",
    "        while curr:\n",
    "            if curr.key == key:\n",
    "                return curr.val   \n",
    "            curr = curr.next \n",
    "        return -1\n",
    "     \n",
    "    def remove(self, key: int) -> None:\n",
    "        index = self.__hash(key)\n",
    "        curr = self.hash_map[index]\n",
    "        while curr and curr.next:\n",
    "            if curr.next.key == key:\n",
    "                curr.next = curr.next.next\n",
    "                return\n",
    "            curr = curr.next\n",
    "        "
   ]
  },
  {
   "cell_type": "code",
   "execution_count": 30,
   "metadata": {},
   "outputs": [],
   "source": [
    "hash_map = MyHashMap()"
   ]
  },
  {
   "cell_type": "code",
   "execution_count": 31,
   "metadata": {},
   "outputs": [],
   "source": [
    "hash_map.put(100, 201)"
   ]
  },
  {
   "cell_type": "code",
   "execution_count": 32,
   "metadata": {},
   "outputs": [
    {
     "data": {
      "text/plain": [
       "201"
      ]
     },
     "execution_count": 32,
     "metadata": {},
     "output_type": "execute_result"
    }
   ],
   "source": [
    "hash_map.get(100)"
   ]
  },
  {
   "cell_type": "code",
   "execution_count": 33,
   "metadata": {},
   "outputs": [],
   "source": [
    "hash_map.remove(100)"
   ]
  },
  {
   "cell_type": "code",
   "execution_count": 34,
   "metadata": {},
   "outputs": [
    {
     "data": {
      "text/plain": [
       "-1"
      ]
     },
     "execution_count": 34,
     "metadata": {},
     "output_type": "execute_result"
    }
   ],
   "source": [
    "hash_map.get(100)"
   ]
  },
  {
   "cell_type": "code",
   "execution_count": null,
   "metadata": {},
   "outputs": [],
   "source": []
  }
 ],
 "metadata": {
  "kernelspec": {
   "display_name": "base",
   "language": "python",
   "name": "python3"
  },
  "language_info": {
   "codemirror_mode": {
    "name": "ipython",
    "version": 3
   },
   "file_extension": ".py",
   "mimetype": "text/x-python",
   "name": "python",
   "nbconvert_exporter": "python",
   "pygments_lexer": "ipython3",
   "version": "3.11.7"
  }
 },
 "nbformat": 4,
 "nbformat_minor": 2
}
